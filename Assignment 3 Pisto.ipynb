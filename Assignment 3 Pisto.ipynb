{
 "cells": [
  {
   "cell_type": "markdown",
   "metadata": {},
   "source": [
    "# Assignment 3\n",
    "\n",
    "## Chosen Galaxy: Sombrero\n",
    "### NASA Extragalactic\tDatabase Details:\n",
    "Name: MESSIER 104 \n",
    "Apparent Magnitude: 8.98 Band (V)\n",
    "\n",
    "Distance Modulus:\n",
    "\n",
    "                 (Galactocentric GSR)=12.4 Mpc err=0.9 Mpc\n",
    "\n",
    "                 (Local Group)=11.3 Mpc err=0.8 Mpc\n",
    "                 \n",
    "                 (3K CMB)=18.7 Mpc err=1.4 Mpc\n",
    "                 \n",
    "Magnitude Equation:\n",
    "(m-M) = 5Log(d)-5\n",
    "Solve for M"
   ]
  },
  {
   "cell_type": "code",
   "execution_count": 1,
   "metadata": {
    "collapsed": true
   },
   "outputs": [],
   "source": [
    "#set up\n",
    "import numpy as np\n",
    "import matplotlib.pyplot as plt"
   ]
  },
  {
   "cell_type": "code",
   "execution_count": 2,
   "metadata": {
    "collapsed": true
   },
   "outputs": [],
   "source": [
    "def AbsMag(m,d):\n",
    "    M=m+5-np.log10(d);\n",
    "    return M"
   ]
  },
  {
   "cell_type": "code",
   "execution_count": 3,
   "metadata": {
    "collapsed": false
   },
   "outputs": [
    {
     "data": {
      "text/plain": [
       "12.886578314837765"
      ]
     },
     "execution_count": 3,
     "metadata": {},
     "output_type": "execute_result"
    }
   ],
   "source": [
    "AbsMag(8.98,12.4)"
   ]
  },
  {
   "cell_type": "markdown",
   "metadata": {},
   "source": [
    "Colour Equation:\n",
    "B-V=Mb-Mv\n",
    "\n",
    "Magnitude of Blue - Magnitude of Visible:\n"
   ]
  },
  {
   "cell_type": "code",
   "execution_count": 4,
   "metadata": {
    "collapsed": true
   },
   "outputs": [],
   "source": [
    "def Colour (Mb,Mv):\n",
    "    BV=Mb-Mv\n",
    "    return BV"
   ]
  },
  {
   "cell_type": "markdown",
   "metadata": {},
   "source": [
    "Morphology is a galaxy classification system used to sort galaxies into groups based off the visual appearance, the most common classification accoring to morphology is the the Hubble sequence which divides galaxies into groups: Spiral, Eliptical, Lenticular. These lables have a link to the star formation within the respective galaxy. eg eliptical suggests that star formation happend in a burst and are all similar, young ages; where lenticular suggest that the stars are all aging stars and therefor very little star fomation.\n",
    "Colour is assosiated to the age of galaxies, a blue galaxy often has lots of star formation and therefor a lot of hot blue stars forming where the red galaxies often are older where the star formation is smaller and cooler hence producing red stars.\n",
    "Finally the brightness of a galaxy is a history indicator, determining the age and the degree of star formation withing that galaxy.\n"
   ]
  },
  {
   "cell_type": "code",
   "execution_count": 5,
   "metadata": {
    "collapsed": false
   },
   "outputs": [],
   "source": [
    "def SersicPlot(nstart,nfinish,mu,r):\n",
    "    #I=Mu*exp(-(R/r)^1/n)\n",
    "    #solve for I/R\n",
    "    #equation:\n",
    "    #ln(I)/R^1/n=ln(Mu)/r^1/n\n",
    "    n=nstart\n",
    "    while(n<nfinish):\n",
    "        IRplot=np.log(mu)/r**(1/n)\n",
    "        plt.plot(IRplot,n)\n",
    "        n=n+1\n",
    "    plt.show()   ##plot not right need to fix\n",
    "    return IRplot\n",
    "    "
   ]
  },
  {
   "cell_type": "code",
   "execution_count": 6,
   "metadata": {
    "collapsed": false
   },
   "outputs": [
    {
     "data": {
      "image/png": "[encoded data removed]",
      "text/plain": [
       "<matplotlib.figure.Figure at 0x1dc7327ae10>"
      ]
     },
     "metadata": {},
     "output_type": "display_data"
    },
    {
     "data": {
      "text/plain": [
       "2.4922586502557036"
      ]
     },
     "execution_count": 6,
     "metadata": {},
     "output_type": "execute_result"
    }
   ],
   "source": [
    "SersicPlot(1,10,25,10)"
   ]
  },
  {
   "cell_type": "markdown",
   "metadata": {},
   "source": [
    "Given: R=8.5kpc\n",
    "       v=220km/s\n",
    "       \n",
    "kepler's third law: P^2/a^3=4$\\pi$^2/GM solving for M\n",
    "\n",
    "where 1pc=3.0857x10^16m, assuming orbit is circular and suns mass is insignificant compared to the entire galaxy"
   ]
  },
  {
   "cell_type": "code",
   "execution_count": 7,
   "metadata": {
    "collapsed": false
   },
   "outputs": [
    {
     "name": "stdout",
     "output_type": "stream",
     "text": [
      "Mass is: 1.4007573064873287e+31\n"
     ]
    }
   ],
   "source": [
    "PI=3.14159265359\n",
    "G= 6.6740831*10**-11 # m3⋅kg−1⋅s−2\n",
    "##find P and a\n",
    "#v in km\n",
    "r=8.5810**3*3.057*10**16/10**3 #km\n",
    "circ=2*PI*r\n",
    "P=circ/220\n",
    "#therefore\n",
    "M=(4*PI**2*r**3)/(G*P**2)\n",
    "print(\"Mass is:\",M)"
   ]
  },
  {
   "cell_type": "code",
   "execution_count": null,
   "metadata": {
    "collapsed": true
   },
   "outputs": [],
   "source": []
  },
  {
   "cell_type": "code",
   "execution_count": null,
   "metadata": {
    "collapsed": true
   },
   "outputs": [],
   "source": []
  },
  {
   "cell_type": "code",
   "execution_count": null,
   "metadata": {
    "collapsed": true
   },
   "outputs": [],
   "source": []
  }
 ],
 "metadata": {
  "kernelspec": {
   "display_name": "Python 3",
   "language": "python",
   "name": "python3"
  },
  "language_info": {
   "codemirror_mode": {
    "name": "ipython",
    "version": 3
   },
   "file_extension": ".py",
   "mimetype": "text/x-python",
   "name": "python",
   "nbconvert_exporter": "python",
   "pygments_lexer": "ipython3",
   "version": "3.6.0"
  }
 },
 "nbformat": 4,
 "nbformat_minor": 2
}
